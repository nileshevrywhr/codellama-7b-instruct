{
  "nbformat": 4,
  "nbformat_minor": 0,
  "metadata": {
    "colab": {
      "provenance": [],
      "gpuType": "T4",
      "include_colab_link": true
    },
    "kernelspec": {
      "name": "python3",
      "display_name": "Python 3"
    },
    "language_info": {
      "name": "python"
    },
    "accelerator": "GPU"
  },
  "cells": [
    {
      "cell_type": "markdown",
      "metadata": {
        "id": "view-in-github",
        "colab_type": "text"
      },
      "source": [
        "<a href=\"https://colab.research.google.com/github/nileshevrywhr/codellama-7b-instruct/blob/main/Code_Llama_7B_Instruct.ipynb\" target=\"_parent\"><img src=\"https://colab.research.google.com/assets/colab-badge.svg\" alt=\"Open In Colab\"/></a>"
      ]
    },
    {
      "cell_type": "code",
      "execution_count": null,
      "metadata": {
        "id": "EZ3EygrrZExd"
      },
      "outputs": [],
      "source": [
        "!pip install git+https://github.com/huggingface/transformers.git@refs/pull/25740/head accelerate"
      ]
    },
    {
      "cell_type": "code",
      "source": [
        "from transformers import AutoTokenizer\n",
        "import transformers\n",
        "import torch"
      ],
      "metadata": {
        "id": "JjBrtt9sZcZp"
      },
      "execution_count": null,
      "outputs": []
    },
    {
      "cell_type": "code",
      "source": [
        "model = \"codellama/CodeLlama-7b-Instruct-hf\" #\"codellama/CodeLlama-7b-hf\""
      ],
      "metadata": {
        "id": "uk_aYIwjZtuQ"
      },
      "execution_count": null,
      "outputs": []
    },
    {
      "cell_type": "code",
      "source": [
        "tokenizer = AutoTokenizer.from_pretrained(model)\n",
        "pipeline = transformers.pipeline(\n",
        "    \"text-generation\",\n",
        "    model=model,\n",
        "    torch_dtype=torch.float16,\n",
        "    device_map=\"auto\",\n",
        ")"
      ],
      "metadata": {
        "id": "znR1gOllZuq0"
      },
      "execution_count": null,
      "outputs": []
    },
    {
      "cell_type": "code",
      "source": [
        "system = \"Provide answers in Python\"\n",
        "user = \"Write a function that detects a pattern that matches the style of 23-Jan-2023 from the given text\"\n",
        "\n",
        "prompt = f\"<s><<SYS>>\\n{system}\\n<</SYS>>\\n\\n{user}\"\n"
      ],
      "metadata": {
        "id": "buZWxVl_61WG"
      },
      "execution_count": null,
      "outputs": []
    },
    {
      "cell_type": "code",
      "source": [
        "sequences = pipeline(\n",
        "    prompt,\n",
        "    do_sample=True,\n",
        "    top_k=10,\n",
        "    temperature=0.1,\n",
        "    top_p=0.95,\n",
        "    num_return_sequences=1,\n",
        "    eos_token_id=tokenizer.eos_token_id,\n",
        "    max_length=200,\n",
        "    add_special_tokens=False\n",
        ")"
      ],
      "metadata": {
        "id": "YB9QKmmEZwyK"
      },
      "execution_count": null,
      "outputs": []
    },
    {
      "cell_type": "code",
      "source": [
        "for seq in sequences:\n",
        "    print(f\"Result: {seq['generated_text']}\")"
      ],
      "metadata": {
        "id": "Ct9FkYTRayQh"
      },
      "execution_count": null,
      "outputs": []
    },
    {
      "cell_type": "code",
      "source": [
        "import re\n",
        "\n",
        "def detect_pattern(text):\n",
        "    pattern = r\"\\d{2}/\\d{2}/\\d{4}\"\n",
        "    return re.findall(pattern, text)"
      ],
      "metadata": {
        "id": "j3yb7bQV-TWE"
      },
      "execution_count": null,
      "outputs": []
    },
    {
      "cell_type": "code",
      "source": [
        "detect_pattern(\"Today is 16/02/2022\")"
      ],
      "metadata": {
        "colab": {
          "base_uri": "https://localhost:8080/"
        },
        "id": "dCVncdNF-3rW",
        "outputId": "b4d07fae-fb3f-4556-f11a-7e5f7287d39d"
      },
      "execution_count": null,
      "outputs": [
        {
          "output_type": "execute_result",
          "data": {
            "text/plain": [
              "['16/02/2022']"
            ]
          },
          "metadata": {},
          "execution_count": 35
        }
      ]
    },
    {
      "cell_type": "code",
      "source": [
        "def detect_pattern(text):\n",
        "    pattern = r\"\\d{2}-\\w{3}-\\d{4}\"\n",
        "    return re.findall(pattern, text)"
      ],
      "metadata": {
        "id": "rQeFn46e-7SR"
      },
      "execution_count": null,
      "outputs": []
    },
    {
      "cell_type": "code",
      "source": [
        "detect_pattern(\"Today is 16-Feb-2022\")"
      ],
      "metadata": {
        "colab": {
          "base_uri": "https://localhost:8080/"
        },
        "id": "RnnV93iRAxVh",
        "outputId": "9e6fbb1c-154a-4313-c628-433f0b9bed99"
      },
      "execution_count": null,
      "outputs": [
        {
          "output_type": "execute_result",
          "data": {
            "text/plain": [
              "['16-Feb-2022']"
            ]
          },
          "metadata": {},
          "execution_count": 41
        }
      ]
    },
    {
      "cell_type": "markdown",
      "source": [
        "## the web app experiment"
      ],
      "metadata": {
        "id": "tjX5_Tk-ayhw"
      }
    },
    {
      "cell_type": "code",
      "source": [
        "from flask import Flask, render_template\n",
        "\n",
        "\n",
        "app = Flask(__name__)\n",
        "\n",
        "# @app.route('/')\n",
        "# def home():\n",
        "#     return render_template('index.html')\n",
        "@app.route('/')\n",
        "def hello_world():\n",
        "    return 'Hello, World!'\n",
        "\n",
        "if __name__ == '__main__':\n",
        "    app.run(port=8080)\n"
      ],
      "metadata": {
        "id": "eK1C84v0AyrX"
      },
      "execution_count": null,
      "outputs": []
    },
    {
      "cell_type": "code",
      "source": [
        "!touch index.html"
      ],
      "metadata": {
        "id": "dyrxmqHca7ey"
      },
      "execution_count": 1,
      "outputs": []
    },
    {
      "cell_type": "code",
      "source": [
        "# !pip install pyngrok\n",
        "# !python -m http.server 3000\n"
      ],
      "metadata": {
        "colab": {
          "base_uri": "https://localhost:8080/"
        },
        "id": "fE6LQDoqa9fb",
        "outputId": "1396d2a6-63b8-4655-dbba-0497a628605d"
      },
      "execution_count": 6,
      "outputs": [
        {
          "output_type": "stream",
          "name": "stdout",
          "text": [
            " * ngrok tunnel is active at NgrokTunnel: \"https://e800-35-234-47-200.ngrok.io\" -> \"http://localhost:8080\"\n"
          ]
        }
      ]
    },
    {
      "cell_type": "code",
      "source": [
        "from pyngrok import ngrok\n",
        "\n",
        "# Set the port where your local server is running\n",
        "port = 8080  # Replace with the port of your web server\n",
        "\n",
        "# Create a public URL for your local server\n",
        "public_url = ngrok.connect(port)\n",
        "\n",
        "print(' * ngrok tunnel is active at', public_url)\n"
      ],
      "metadata": {
        "id": "-hmjNSCTbO8X"
      },
      "execution_count": null,
      "outputs": []
    }
  ]
}